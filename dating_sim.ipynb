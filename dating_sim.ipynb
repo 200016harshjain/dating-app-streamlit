{
  "cells": [
    {
      "cell_type": "code",
      "execution_count": null,
      "metadata": {
        "id": "12TWy2_5w1-r"
      },
      "outputs": [],
      "source": [
        "#population - 100,000\n",
        "# men - 70%\n",
        "# women - 30 %\n",
        "# give everyone a rating between 1-10\n",
        "# matching algorithm -> every day, men can pick up random 20 women and if they're in +-2 of their score it's a match (issues with this )\n",
        "# same for women, random 20 men -> +-2 then it's a match\n",
        "# can allow multiple matches for each person\n",
        "# check after say 2 weeks\n",
        "\n",
        "\n",
        "\n",
        "# ideas \n",
        "# rating slightly skewed towards 6 7 8\n",
        "# matching algorithm - maybe on a grid idk\n",
        "# matching critieria, give women +-1 or lesser matches idk\n",
        "# realised something  doesnt make sense, a man rated 10 has zero matches as he got matched with a 3, need to think about a better way on how to do match\n",
        "\n",
        "\n",
        "#To Do \n",
        "#figure out if we can do some homosexual modeling \n",
        "  # % of straight, lesbian/gay women/men and then bisexual (for bisexual would also need some % of who they're into)"
      ]
    },
    {
      "cell_type": "code",
      "execution_count": 33,
      "metadata": {
        "id": "OKsA-3YHx19z"
      },
      "outputs": [],
      "source": [
        "import pandas as pd\n",
        "import random\n",
        "import numpy as np\n",
        "import matplotlib.pyplot as plt\n"
      ]
    },
    {
      "cell_type": "code",
      "execution_count": 1,
      "metadata": {
        "id": "i-ywNdERxLEl"
      },
      "outputs": [],
      "source": [
        "population = 100000\n",
        "male_percent = int(0.75 * population)\n",
        "women_percent = int(0.25 * population)\n",
        "matches_per_day_men = 20\n",
        "matches_per_day_women = 20\n",
        "number_of_days = 5\n",
        "matching_criteria_for_men = 2\n",
        "matching_criteria_for_women = 2\n",
        "matching_criteria = min(matching_criteria_for_men,matching_criteria_for_women)\n",
        "#take minimum of matching criteria -> see if women have a +/- 2 \n"
      ]
    },
    {
      "cell_type": "code",
      "execution_count": 4,
      "metadata": {
        "id": "2E5cUJDt15B0"
      },
      "outputs": [
        {
          "ename": "MemoryError",
          "evalue": "",
          "output_type": "error",
          "traceback": [
            "\u001b[1;31m---------------------------------------------------------------------------\u001b[0m",
            "\u001b[1;31mMemoryError\u001b[0m                               Traceback (most recent call last)",
            "\u001b[1;32mc:\\Users\\ranja\\Desktop\\harsh\\dating-app\\dating_sim.ipynb Cell 4\u001b[0m in \u001b[0;36m<cell line: 3>\u001b[1;34m()\u001b[0m\n\u001b[0;32m      <a href='vscode-notebook-cell:/c%3A/Users/ranja/Desktop/harsh/dating-app/dating_sim.ipynb#W3sZmlsZQ%3D%3D?line=0'>1</a>\u001b[0m men_population \u001b[39m=\u001b[39m male_percent \u001b[39m*\u001b[39m population\n\u001b[0;32m      <a href='vscode-notebook-cell:/c%3A/Users/ranja/Desktop/harsh/dating-app/dating_sim.ipynb#W3sZmlsZQ%3D%3D?line=1'>2</a>\u001b[0m women_population \u001b[39m=\u001b[39m women_percent \u001b[39m*\u001b[39m population \n\u001b[1;32m----> <a href='vscode-notebook-cell:/c%3A/Users/ranja/Desktop/harsh/dating-app/dating_sim.ipynb#W3sZmlsZQ%3D%3D?line=2'>3</a>\u001b[0m men_ratings \u001b[39m=\u001b[39m  [\u001b[39m0\u001b[39;49m] \u001b[39m*\u001b[39;49m men_population\n\u001b[0;32m      <a href='vscode-notebook-cell:/c%3A/Users/ranja/Desktop/harsh/dating-app/dating_sim.ipynb#W3sZmlsZQ%3D%3D?line=3'>4</a>\u001b[0m   \u001b[39m#making a list where we store the ratings of men, randomly generate from 1-10\u001b[39;00m\n\u001b[0;32m      <a href='vscode-notebook-cell:/c%3A/Users/ranja/Desktop/harsh/dating-app/dating_sim.ipynb#W3sZmlsZQ%3D%3D?line=4'>5</a>\u001b[0m \u001b[39mfor\u001b[39;00m i \u001b[39min\u001b[39;00m \u001b[39mrange\u001b[39m(\u001b[39mlen\u001b[39m(men_ratings)):\n",
            "\u001b[1;31mMemoryError\u001b[0m: "
          ]
        }
      ],
      "source": [
        "men_population = male_percent * population\n",
        "women_population = women_percent * population \n",
        "men_ratings =  [0] * men_population\n",
        "  #making a list where we store the ratings of men, randomly generate from 1-10\n",
        "for i in range(len(men_ratings)):\n",
        "  men_ratings[i] = generate_random_rating()\n",
        "\n",
        "women_ratings = [0] * women_population\n",
        "for i in range(len(women_ratings)):\n",
        "  women_ratings[i] = generate_random_rating()\n",
        "\n",
        "\n",
        "men_matches_count = [0] * men_population\n",
        "women_matches_count = [0] * women_population\n",
        "men_matches_list =   [[] for _ in range((men_population))]\n",
        "women_matches_list = [[] for _ in range((women_population))]\n",
        "\n",
        "\n",
        "for k in range(number_of_days):  #14 is like doing this for 14 days \n",
        "  for i in range(len(men_matches_count)): #iterate over all men\n",
        "    current_rating = men_ratings[i] # get current 'rating'\n",
        "    searching_women = random_match_index(matches_per_day_men,women_population) #get a list containing the index of  women    \n",
        "    for j in range(len(searching_women)):\n",
        "    \n",
        "        #for each of these women, check if the rating is within range for the man in question, if yes call it a match for both (applied check to see they're not already matched)\n",
        "        ##here we end up using minimum of (men,women) standards\n",
        "      \n",
        "      if current_rating - matching_criteria <= women_ratings[searching_women[j]] <= current_rating + matching_criteria and searching_women[j] not in men_matches_list[i] :\n",
        "        men_matches_count[i] = men_matches_count[i] + 1\n",
        "        women_matches_count[searching_women[j]] = women_matches_count[searching_women[j]] + 1\n",
        "        men_matches_list[i].append(searching_women[j])\n",
        "        women_matches_list[searching_women[j]].append(i)\n",
        "          \n",
        "    \n",
        "  for i in range(len(women_matches_count)):\n",
        "    current_rating = women_ratings[i]\n",
        "    searching_men = random_match_index(matches_per_day_women,men_population)\n",
        "\n",
        "    for j in range(len(searching_men)):\n",
        "      if current_rating - matching_criteria <= men_ratings[searching_men[j]] <= current_rating + matching_criteria and searching_men[j] not in women_matches_list[i] :\n",
        "        women_matches_count[i] = women_matches_count[i] + 1\n",
        "        men_matches_count[searching_men[j]] = men_matches_count[searching_men[j]] + 1\n",
        "        women_matches_list[i].append(searching_men[j])\n",
        "        men_matches_list[searching_men[j]].append(i)\n",
        "\n"
      ]
    },
    {
      "cell_type": "code",
      "execution_count": 70,
      "metadata": {
        "colab": {
          "base_uri": "https://localhost:8080/",
          "height": 643
        },
        "id": "UpvvN6_ZyMbo",
        "outputId": "15d01efb-6fa9-49f4-95c1-97703a2331b6"
      },
      "outputs": [
        {
          "data": {
            "text/plain": [
              "(0.0, 4520.0)"
            ]
          },
          "execution_count": 70,
          "metadata": {},
          "output_type": "execute_result"
        },
        {
          "data": {
            "image/png": "[encoded data removed]",
            "text/plain": [
              "<Figure size 432x288 with 1 Axes>"
            ]
          },
          "metadata": {
            "needs_background": "light"
          },
          "output_type": "display_data"
        }
      ],
      "source": [
        "#plotting histograms of data for men\n",
        "\n",
        "\n",
        "n, bins, patches = plt.hist(x=men_matches_count, bins='auto', color='#0504aa',\n",
        "                            alpha=0.7, rwidth=0.85)\n",
        "plt.grid(axis='y', alpha=0.75)\n",
        "plt.xlabel('Value')\n",
        "plt.ylabel('Frequency')\n",
        "plt.title('Men Data')\n",
        "plt.text(23, 45, r'$\\mu=15, b=3$')\n",
        "maxfreq = n.max()\n",
        "# Set a clean upper y-axis limit.\n",
        "plt.ylim(ymax=np.ceil(maxfreq / 10) * 10 if maxfreq % 10 else maxfreq + 10)    \n"
      ]
    },
    {
      "cell_type": "code",
      "execution_count": 71,
      "metadata": {
        "colab": {
          "base_uri": "https://localhost:8080/",
          "height": 643
        },
        "id": "vlcdGzqxyOG6",
        "outputId": "14467943-b6d2-4977-ae83-ba52e75d4cb0"
      },
      "outputs": [
        {
          "data": {
            "text/plain": [
              "(0.0, 1360.0)"
            ]
          },
          "execution_count": 71,
          "metadata": {},
          "output_type": "execute_result"
        },
        {
          "data": {
            "image/png": "[encoded data removed]",
            "text/plain": [
              "<Figure size 432x288 with 1 Axes>"
            ]
          },
          "metadata": {
            "needs_background": "light"
          },
          "output_type": "display_data"
        }
      ],
      "source": [
        "n, bins, patches = plt.hist(x=women_matches_count, bins='auto', color='#0504aa',\n",
        "                            alpha=0.7, rwidth=0.85)\n",
        "plt.grid(axis='y', alpha=0.75)\n",
        "plt.xlabel('Value')\n",
        "plt.ylabel('Frequency')\n",
        "plt.title('Women Data')\n",
        "plt.text(23, 45, r'$\\mu=15, b=3$')\n",
        "maxfreq = n.max()\n",
        "# Set a clean upper y-axis limit.\n",
        "\n"
      ]
    },
    {
      "cell_type": "code",
      "execution_count": 78,
      "metadata": {
        "colab": {
          "base_uri": "https://localhost:8080/",
          "height": 283
        },
        "id": "AnEaQrrsIhDR",
        "outputId": "e8c90d94-f6b0-4478-e567-42aa2008f8f9"
      },
      "outputs": [
        {
          "name": "stdout",
          "output_type": "stream",
          "text": [
            "0.2656576762257691\n"
          ]
        },
        {
          "data": {
            "image/png": "[encoded data removed]",
            "text/plain": [
              "<Figure size 432x288 with 1 Axes>"
            ]
          },
          "metadata": {
            "needs_background": "light"
          },
          "output_type": "display_data"
        }
      ],
      "source": [
        "#getting the gini coefficient and lorenz curve to calculate inequality\n",
        "#reference https://medium.com/@worstonlinedater/tinder-experiments-ii-guys-unless-you-are-really-hot-you-are-probably-better-off-not-wasting-your-2ddf370a6e9a\n",
        "#note, the maximum gini coefficent obtained till now was 0.25 (70/30 men:women with some other settings i dont remember). real world according to article has 0.50ish\n",
        "\n",
        "\n",
        "import numpy as np\n",
        "import matplotlib.pyplot as plt\n",
        "\n",
        "# ensure your arr is sorted from lowest to highest values first!\n",
        "total_matches = men_matches_count+ women_matches_count\n",
        "total_matches = np.asarray(total_matches,dtype=np.float64)\n",
        "np.sort(total_matches)\n",
        "\n",
        "\n",
        "#print(total_matches)\n",
        "\n",
        "def gini(x):\n",
        "    total = 0\n",
        "    for i, xi in enumerate(x[:-1], 1):\n",
        "        total += np.sum(np.abs(xi - x[i:]))\n",
        "    return total / (len(x)**2 * np.mean(x))\n",
        "\n",
        "print(gini(total_matches))\n",
        "\n",
        "\n",
        "def lorenz(arr):\n",
        "    # this divides the prefix sum by the total sum\n",
        "    # this ensures all the values are between 0 and 1.0\n",
        "    scaled_prefix_sum = arr.cumsum() / arr.sum()\n",
        "    # this prepends the 0 value (because 0% of all people have 0% of all wealth)\n",
        "    return np.insert(scaled_prefix_sum, 0, 0)\n",
        "\n",
        "\n",
        "\n",
        "lorenz_curve = lorenz(total_matches)\n",
        "\n",
        "# we need the X values to be between 0.0 to 1.0\n",
        "plt.plot(np.linspace(0.0, 1.0, lorenz_curve.size), lorenz_curve)\n",
        "# plot the straight line perfect equality curve\n",
        "plt.plot([0,1], [0,1])\n",
        "plt.show()\n",
        "\n"
      ]
    },
    {
      "cell_type": "code",
      "execution_count": 2,
      "metadata": {
        "id": "KIU-rvvZ0jtz"
      },
      "outputs": [],
      "source": [
        "#generate random number from 1 to 10\n",
        "def generate_random_rating():\n",
        "  return random.randrange(10)+1\n",
        "\n",
        "#get a list of indexes of either men/mwomen \n",
        "def random_match_index(matches_to_be_returned, searching_within):\n",
        "\n",
        "  match_indexes = [0] * matches_to_be_returned\n",
        "  for i in range(len(match_indexes)):\n",
        "    match_indexes[i] = random.randrange(searching_within)\n",
        "  return match_indexes"
      ]
    },
    {
      "cell_type": "code",
      "execution_count": null,
      "metadata": {
        "id": "v4leQTx8Ieux"
      },
      "outputs": [],
      "source": []
    },
    {
      "cell_type": "code",
      "execution_count": 43,
      "metadata": {
        "id": "D80e_LCnsDqV"
      },
      "outputs": [
        {
          "data": {
            "text/plain": [
              "[0, 1, 2]"
            ]
          },
          "execution_count": 43,
          "metadata": {},
          "output_type": "execute_result"
        }
      ],
      "source": [
        "a = [1,0,2]\n",
        "sorted(a)"
      ]
    },
    {
      "cell_type": "code",
      "execution_count": null,
      "metadata": {},
      "outputs": [],
      "source": [
        "def simulate(\n",
        "        matches_per_day_men,\n",
        "        matches_per_day_women,\n",
        "        number_of_days,\n",
        "        matching_criteria,\n",
        "    ):\n",
        "\n",
        "        men_ratings = [0] * men_population\n",
        "        # making a list where we store the ratings of men, randomly generate from 1-10\n",
        "        for i in range(len(men_ratings)):\n",
        "            men_ratings[i] = generate_random_rating()\n",
        "\n",
        "        women_ratings = [0] * women_population\n",
        "        for i in range(len(women_ratings)):\n",
        "            women_ratings[i] = generate_random_rating()\n",
        "\n",
        "        men_matches_count = [0] * men_population\n",
        "        women_matches_count = [0] * women_population\n",
        "        men_matches_list = [[] for _ in range((men_population))]\n",
        "        women_matches_list = [[] for _ in range((women_population))]\n",
        "\n",
        "        for k in range(number_of_days):  # 14 is like doing this for 14 days\n",
        "            for i in range(len(men_matches_count)):  # iterate over all men\n",
        "                current_rating = men_ratings[i]  # get current 'rating'\n",
        "                searching_women = random_match_index(\n",
        "                    matches_per_day_men, women_population\n",
        "                )  # get a list containing the index of  women\n",
        "                for j in range(len(searching_women)):\n",
        "\n",
        "                    # for each of these women, check if the rating is within range for the man in question, if yes call it a match for both (applied check to see they're not already matched)\n",
        "                    ##here we end up using minimum of (men,women) standards\n",
        "\n",
        "                    if (\n",
        "                        current_rating - matching_criteria\n",
        "                        <= women_ratings[searching_women[j]]\n",
        "                        <= current_rating + matching_criteria\n",
        "                        and searching_women[j] not in men_matches_list[i]\n",
        "                    ):\n",
        "                        men_matches_count[i] = men_matches_count[i] + 1\n",
        "                        women_matches_count[searching_women[j]] = (\n",
        "                            women_matches_count[searching_women[j]] + 1\n",
        "                        )\n",
        "                        men_matches_list[i].append(searching_women[j])\n",
        "                        women_matches_list[searching_women[j]].append(i)\n",
        "\n",
        "            for i in range(len(women_matches_count)):\n",
        "                current_rating = women_ratings[i]\n",
        "                searching_men = random_match_index(matches_per_day_women, men_population)\n",
        "\n",
        "                for j in range(len(searching_men)):\n",
        "                    if (\n",
        "                        current_rating - matching_criteria\n",
        "                        <= men_ratings[searching_men[j]]\n",
        "                        <= current_rating + matching_criteria\n",
        "                        and searching_men[j] not in women_matches_list[i]\n",
        "                    ):\n",
        "                        women_matches_count[i] = women_matches_count[i] + 1\n",
        "                        men_matches_count[searching_men[j]] = (\n",
        "                            men_matches_count[searching_men[j]] + 1\n",
        "                        )\n",
        "                        women_matches_list[i].append(searching_men[j])\n",
        "                        men_matches_list[searching_men[j]].append(i)\n",
        "        return men_matches_count, women_matches_count"
      ]
    }
  ],
  "metadata": {
    "colab": {
      "name": "dating-sim.ipynb",
      "provenance": []
    },
    "kernelspec": {
      "display_name": "Python 3.10.6 64-bit (windows store)",
      "language": "python",
      "name": "python3"
    },
    "language_info": {
      "codemirror_mode": {
        "name": "ipython",
        "version": 3
      },
      "file_extension": ".py",
      "mimetype": "text/x-python",
      "name": "python",
      "nbconvert_exporter": "python",
      "pygments_lexer": "ipython3",
      "version": "3.10.6"
    },
    "vscode": {
      "interpreter": {
        "hash": "33944818b80ab08c847777b6f2d33acf2dbda48dd82b1b1caf2e7cd0629ff942"
      }
    }
  },
  "nbformat": 4,
  "nbformat_minor": 0
}
